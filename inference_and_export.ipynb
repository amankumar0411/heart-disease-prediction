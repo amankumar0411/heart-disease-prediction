{
 "cells": [
  {
   "cell_type": "markdown",
   "id": "fcf9fdab",
   "metadata": {},
   "source": [
    "Load artifacts"
   ]
  },
  {
   "cell_type": "code",
   "execution_count": 1,
   "id": "b8628b40",
   "metadata": {},
   "outputs": [],
   "source": [
    "import joblib, pandas as pd, numpy as np\n",
    "\n",
    "models = {\n",
    "    'Logistic Regression': joblib.load(\"models/logistic_regression_model.pkl\"),\n",
    "    'SVM': joblib.load(\"models/svm_model.pkl\"),\n",
    "    'KNN': joblib.load(\"models/knn_model.pkl\"),\n",
    "    'Random Forest': joblib.load(\"models/random_forest_model.pkl\"),\n",
    "}\n",
    "\n",
    "pre = joblib.load(\"models/preprocessor.pkl\")   # contains scaler (and cat_cols metadata if you stored it)\n",
    "feature_names = joblib.load(\"models/feature_names.pkl\")\n",
    "scaler = pre['scaler']\n"
   ]
  },
  {
   "cell_type": "markdown",
   "id": "dff28522",
   "metadata": {},
   "source": [
    "Define inference helpers"
   ]
  },
  {
   "cell_type": "code",
   "execution_count": 2,
   "id": "3c85aa72",
   "metadata": {},
   "outputs": [],
   "source": [
    "from sklearn.impute import SimpleImputer\n",
    "\n",
    "imputer = SimpleImputer(strategy='median')\n",
    "\n",
    "def enforce_schema(df_row, feature_names):\n",
    "    for c in feature_names:\n",
    "        if c not in df_row.columns:\n",
    "            df_row[c] = np.nan\n",
    "    return df_row[feature_names]\n",
    "\n",
    "def prepare_input(input_dict, feature_names):\n",
    "    df_row = pd.DataFrame([input_dict])\n",
    "    df_row = df_row.replace(['', ' ', 'NA', 'NaN', 'nan', '?'], np.nan)\n",
    "    df_row = enforce_schema(df_row, feature_names)\n",
    "    # Force numeric for known numeric fields\n",
    "    for c in ['age','trestbps','chol','thalach','oldpeak','ca']:\n",
    "        if c in df_row.columns:\n",
    "            df_row[c] = pd.to_numeric(df_row[c], errors='coerce')\n",
    "    X_imp = imputer.fit_transform(df_row.values)\n",
    "    X_sc  = scaler.transform(X_imp)\n",
    "    return X_sc\n",
    "\n",
    "def predict_single(input_dict, model_name='SVM'):\n",
    "    X_sc = prepare_input(input_dict, feature_names)\n",
    "    model = models[model_name]\n",
    "    pred = int(model.predict(X_sc))\n",
    "    prob = float(model.predict_proba(X_sc)[0,1])\n",
    "    risk = \"Low Risk\" if prob < 0.3 else (\"Moderate Risk\" if prob < 0.7 else \"High Risk\")\n",
    "    return {'prediction': pred, 'probability_disease': prob, 'risk_level': risk}\n"
   ]
  },
  {
   "cell_type": "markdown",
   "id": "b7bbccea",
   "metadata": {},
   "source": [
    "Quick test"
   ]
  },
  {
   "cell_type": "code",
   "execution_count": 3,
   "id": "d4823067",
   "metadata": {},
   "outputs": [
    {
     "name": "stderr",
     "output_type": "stream",
     "text": [
      "c:\\Users\\aman0\\AppData\\Local\\Programs\\Python\\Python313\\Lib\\site-packages\\sklearn\\utils\\validation.py:2749: UserWarning: X does not have valid feature names, but StandardScaler was fitted with feature names\n",
      "  warnings.warn(\n",
      "C:\\Users\\aman0\\AppData\\Local\\Temp\\ipykernel_10332\\666754160.py:26: DeprecationWarning: Conversion of an array with ndim > 0 to a scalar is deprecated, and will error in future. Ensure you extract a single element from your array before performing this operation. (Deprecated NumPy 1.25.)\n",
      "  pred = int(model.predict(X_sc))\n"
     ]
    },
    {
     "data": {
      "text/plain": [
       "{'prediction': 1,\n",
       " 'probability_disease': 0.5525401268701421,\n",
       " 'risk_level': 'Moderate Risk'}"
      ]
     },
     "execution_count": 3,
     "metadata": {},
     "output_type": "execute_result"
    }
   ],
   "source": [
    "sample = {\n",
    "    'age': 57, 'sex': 1, 'cp': 2, 'trestbps': 130, 'chol': 250,\n",
    "    'fbs': 0, 'restecg': 1, 'thalach': 150, 'exang': 0,\n",
    "    'oldpeak': 1.2, 'slope': 1, 'ca': 0, 'thal': 2\n",
    "}\n",
    "predict_single(sample, 'Random Forest')\n"
   ]
  },
  {
   "cell_type": "code",
   "execution_count": null,
   "id": "a5cbd1fb",
   "metadata": {},
   "outputs": [],
   "source": []
  },
  {
   "cell_type": "code",
   "execution_count": null,
   "id": "b71056b1",
   "metadata": {},
   "outputs": [],
   "source": []
  }
 ],
 "metadata": {
  "kernelspec": {
   "display_name": "Python 3",
   "language": "python",
   "name": "python3"
  },
  "language_info": {
   "codemirror_mode": {
    "name": "ipython",
    "version": 3
   },
   "file_extension": ".py",
   "mimetype": "text/x-python",
   "name": "python",
   "nbconvert_exporter": "python",
   "pygments_lexer": "ipython3",
   "version": "3.13.7"
  }
 },
 "nbformat": 4,
 "nbformat_minor": 5
}
